{
 "cells": [
  {
   "cell_type": "code",
   "execution_count": 1,
   "id": "db6239c4",
   "metadata": {},
   "outputs": [
    {
     "name": "stdout",
     "output_type": "stream",
     "text": [
      "['.', 'ecnetnes', 'a', 'si', 'a']\n"
     ]
    }
   ],
   "source": [
    "#Exercise #1\n",
    "#Reverse the list below in-place using an in-place algorithm.\n",
    "#For extra credit: Reverse the strings at the same time.\n",
    "words = ['this' , 'is', 'a', 'sentence', '.']\n",
    "\n",
    "new_array = ['a'] * len(words)\n",
    "length = len(words) - 1\n",
    "\n",
    "for i in range(length):\n",
    "    new_array[i] = words[length - i][::-1]\n",
    "    \n",
    "words = new_array\n",
    "print(words)"
   ]
  },
  {
   "cell_type": "code",
   "execution_count": 2,
   "id": "f4908d04",
   "metadata": {},
   "outputs": [
    {
     "data": {
      "text/plain": [
       "{'I': 1,\n",
       " 'n': 13,\n",
       " ' ': 52,\n",
       " 'c': 12,\n",
       " 'o': 12,\n",
       " 'm': 7,\n",
       " 'p': 6,\n",
       " 'u': 12,\n",
       " 't': 24,\n",
       " 'i': 11,\n",
       " 'g': 1,\n",
       " ',': 2,\n",
       " 'a': 32,\n",
       " 'h': 14,\n",
       " 's': 19,\n",
       " 'b': 5,\n",
       " 'l': 6,\n",
       " 'e': 19,\n",
       " 'd': 6,\n",
       " 'r': 12,\n",
       " 'w': 2,\n",
       " 'v': 3,\n",
       " 'y': 4,\n",
       " 'k': 2,\n",
       " '.': 1,\n",
       " 'A': 1,\n",
       " 'f': 4,\n",
       " 'x': 1}"
      ]
     },
     "execution_count": 2,
     "metadata": {},
     "output_type": "execute_result"
    }
   ],
   "source": [
    "# Exercise #2\n",
    "# Create a function that counts how many distinct words are in the string below, then outputs a dictionary with the words as the key and the value as the amount of times that word appears in the string.\n",
    "# Should output:\n",
    "# {'a': 5,\n",
    "# 'abstract': 1,\n",
    "# 'an': 3,\n",
    "# 'array': 2, ... etc...\n",
    "a_text = 'In computing, a hash table hash map is a data structure which implements an associative array abstract data type, a structure that can map keys to values. A hash table uses a hash function to compute an index into an array of buckets or slots from which the desired value can be found'\n",
    "\n",
    "def find(text):\n",
    "    letters = {}\n",
    "    for i in list(text):\n",
    "        if i in letters:\n",
    "            letters[i] += 1\n",
    "        else:\n",
    "            letters[i] = 1\n",
    "    return letters\n",
    "find(a_text)"
   ]
  },
  {
   "cell_type": "code",
   "execution_count": 3,
   "id": "c0dd253e",
   "metadata": {},
   "outputs": [
    {
     "data": {
      "text/plain": [
       "3"
      ]
     },
     "execution_count": 3,
     "metadata": {},
     "output_type": "execute_result"
    }
   ],
   "source": [
    "# Exercise #3\n",
    "# Write a program to implement a Linear Search Algorithm. Also in a comment, write the Time Complexity of the following algorithm.\n",
    "\n",
    "# Hint: Linear Searching will require searching a list for a given number.\n",
    "\n",
    "nums_list = [10,23,45,70,11,15]\n",
    "target = 70\n",
    "\n",
    "# If number is not present return -1\n",
    "def search(lst,num):\n",
    "    for i in range(len(lst)):\n",
    "  \n",
    "        if lst[i] == num:\n",
    "            return i\n",
    "  \n",
    "    return -1\n",
    "search(nums_list, target) \n",
    "\n",
    "#this shpould be o(n) it runs through the loop once"
   ]
  }
 ],
 "metadata": {
  "kernelspec": {
   "display_name": "Python 3",
   "language": "python",
   "name": "python3"
  },
  "language_info": {
   "codemirror_mode": {
    "name": "ipython",
    "version": 3
   },
   "file_extension": ".py",
   "mimetype": "text/x-python",
   "name": "python",
   "nbconvert_exporter": "python",
   "pygments_lexer": "ipython3",
   "version": "3.8.8"
  }
 },
 "nbformat": 4,
 "nbformat_minor": 5
}
